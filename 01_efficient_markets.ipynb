{
  "cells": [
    {
      "cell_type": "markdown",
      "metadata": {
        "id": "j70TaOy3in5l"
      },
      "source": [
        "<img src='http://hilpisch.com/taim_logo.png' width=\"350px\" align=\"right\">\n",
        "\n",
        "# Reinforcement Learning\n",
        "\n",
        "**OLS Regression & Efficient Markets**"
      ]
    },
    {
      "cell_type": "markdown",
      "metadata": {
        "id": "QKY_9-Evin5r"
      },
      "source": [
        "&copy; Dr Yves J Hilpisch | The Python Quants GmbH\n",
        "\n",
        "http://tpq.io | http://twitter.com/dyjh\n",
        "\n",
        "<img src=\"https://hilpisch.com/aiif_cover_shadow.png\" width=\"300px\" align=\"left\">"
      ]
    },
    {
      "cell_type": "markdown",
      "metadata": {
        "id": "zFXYDkRCin5s"
      },
      "source": [
        "## Imports"
      ]
    },
    {
      "cell_type": "code",
      "execution_count": null,
      "metadata": {
        "id": "4vs2qLdDin5t"
      },
      "outputs": [],
      "source": [
        "import math\n",
        "import cufflinks\n",
        "import numpy as np\n",
        "import pandas as pd\n",
        "from pylab import plt\n",
        "plt.style.use('seaborn-v0_8')\n",
        "cufflinks.set_config_file(offline=True)"
      ]
    },
    {
      "cell_type": "markdown",
      "metadata": {
        "id": "rCOOqXi8in5w"
      },
      "source": [
        "## Random Walks"
      ]
    },
    {
      "cell_type": "markdown",
      "metadata": {
        "id": "H4-XLoWIin5x"
      },
      "source": [
        "Eugene F. Fama (1965): “Random Walks in Stock Market Prices”:\n",
        "\n",
        "> “For many years, economists, statisticians, and teachers of finance have been interested in developing and testing models of stock price behavior. One important model that has evolved from this research is the theory of random walks. This theory casts serious doubt on many other methods for describing and predicting stock price behavior—methods that have considerable popularity outside the academic world. For example, we shall see later that, if the random-walk theory is an accurate description of reality, then the various “technical” or “chartist” procedures for predicting stock prices are completely without value.”"
      ]
    },
    {
      "cell_type": "markdown",
      "metadata": {
        "id": "02r5Md1Min5x"
      },
      "source": [
        "Michael Jensen (1978): “Some Anomalous Evidence Regarding Market Efficiency”:\n",
        "\n",
        ">“A market is efficient with respect to an information set S if it is impossible to make economic profits by trading on the basis of information set S.”"
      ]
    },
    {
      "cell_type": "markdown",
      "metadata": {
        "id": "5tvyjJW1in5y"
      },
      "source": [
        "If a stock price follows a (simple) random walk (no drift & normally distributed returns), then it rises and falls with the same probability of 50% (“toss of a coin”).\n",
        "\n",
        "**In such a case, the best predictor of tomorrow’s stock price — in a least-squares sense — is today’s stock price.**"
      ]
    },
    {
      "cell_type": "markdown",
      "metadata": {
        "id": "x-CHwmyrin5z"
      },
      "source": [
        "### Retrieving Cross-Asset Data"
      ]
    },
    {
      "cell_type": "code",
      "execution_count": null,
      "metadata": {
        "id": "1YBnfHrGin51"
      },
      "outputs": [],
      "source": [
        "url = 'https://certificate.tpq.io/findata.csv'\n",
        "\n",
        "#Hello, I am an amendment to test if I go back to github"
      ]
    },
    {
      "cell_type": "code",
      "execution_count": null,
      "metadata": {
        "id": "H1lSeZtcin52"
      },
      "outputs": [],
      "source": [
        "data = pd.read_csv(url, index_col=0, parse_dates=True)"
      ]
    },
    {
      "cell_type": "code",
      "execution_count": null,
      "metadata": {
        "id": "d2IyI0Ioin53"
      },
      "outputs": [],
      "source": [
        "data.dropna(inplace=True)"
      ]
    },
    {
      "cell_type": "code",
      "execution_count": null,
      "metadata": {
        "id": "jlF7rTT9in55"
      },
      "outputs": [],
      "source": [
        "data.head()"
      ]
    },
    {
      "cell_type": "code",
      "execution_count": null,
      "metadata": {
        "id": "YOofveO2in55"
      },
      "outputs": [],
      "source": [
        "data.tail()"
      ]
    },
    {
      "cell_type": "code",
      "execution_count": null,
      "metadata": {
        "id": "yCE9yeWHin56"
      },
      "outputs": [],
      "source": [
        "data.info()"
      ]
    },
    {
      "cell_type": "markdown",
      "metadata": {
        "id": "KJ9QQSCyin56"
      },
      "source": [
        "### Calculating the Log Returns"
      ]
    },
    {
      "cell_type": "code",
      "execution_count": null,
      "metadata": {
        "id": "79HYWyuein58"
      },
      "outputs": [],
      "source": [
        "rets = np.log(data / data.shift(1))"
      ]
    },
    {
      "cell_type": "code",
      "execution_count": null,
      "metadata": {
        "id": "tKfJGViLin59"
      },
      "outputs": [],
      "source": [
        "rets.head()"
      ]
    },
    {
      "cell_type": "code",
      "execution_count": null,
      "metadata": {
        "id": "wZlDl_Nrin59"
      },
      "outputs": [],
      "source": [
        "rets.mean() * 252  # annualized, average log returns"
      ]
    },
    {
      "cell_type": "markdown",
      "metadata": {
        "id": "xuwk1HKSin5-"
      },
      "source": [
        "### Plotting the Data"
      ]
    },
    {
      "cell_type": "markdown",
      "metadata": {
        "id": "emqwYDM5in5-"
      },
      "source": [
        "`pip install cufflinks`"
      ]
    },
    {
      "cell_type": "code",
      "execution_count": null,
      "metadata": {
        "id": "ZZPcjcO6in5_"
      },
      "outputs": [],
      "source": [
        "data.normalize().iplot(kind='lines')"
      ]
    },
    {
      "cell_type": "code",
      "execution_count": null,
      "metadata": {
        "id": "jsY0ZC7Jin5_"
      },
      "outputs": [],
      "source": [
        "rets.iplot(kind='histogram', subplots=True)"
      ]
    },
    {
      "cell_type": "code",
      "execution_count": null,
      "metadata": {
        "id": "CJthAVw9in5_"
      },
      "outputs": [],
      "source": [
        "rets.corr().iplot(kind='heatmap', colorscale='blues')"
      ]
    },
    {
      "cell_type": "markdown",
      "metadata": {
        "id": "3gCulDhein6A"
      },
      "source": [
        "### Preparing Lagged Data"
      ]
    },
    {
      "cell_type": "code",
      "execution_count": null,
      "metadata": {
        "id": "nXz8dzySin6A"
      },
      "outputs": [],
      "source": [
        "def add_lags(data, ric, lags):\n",
        "    cols = []\n",
        "    df = pd.DataFrame(data[ric])\n",
        "    for lag in range(1, lags + 1):\n",
        "        col = 'lag_{}'.format(lag)  # defines the column name\n",
        "        df[col] = df[ric].shift(lag)  # creates the lagged data column\n",
        "        cols.append(col)  # stores the column name\n",
        "    df.dropna(inplace=True)  # gets rid of incomplete data rows\n",
        "    return df, cols"
      ]
    },
    {
      "cell_type": "code",
      "execution_count": null,
      "metadata": {
        "id": "YxU-Nsnpin6A"
      },
      "outputs": [],
      "source": [
        "lags = 7  # seven historical lags"
      ]
    },
    {
      "cell_type": "code",
      "execution_count": null,
      "metadata": {
        "id": "IrdknZcLin6B"
      },
      "outputs": [],
      "source": [
        "dfs = {}\n",
        "for sym in data.columns:\n",
        "    df, cols = add_lags(data, sym, lags)\n",
        "    dfs[sym] = df"
      ]
    },
    {
      "cell_type": "code",
      "execution_count": null,
      "metadata": {
        "id": "vvzfqKSxin6C"
      },
      "outputs": [],
      "source": [
        "cols  # the column names for the lags"
      ]
    },
    {
      "cell_type": "code",
      "execution_count": null,
      "metadata": {
        "id": "Mjpf9ZwIin6C"
      },
      "outputs": [],
      "source": [
        "dfs.keys()  # the keys of the dictonary"
      ]
    },
    {
      "cell_type": "code",
      "execution_count": null,
      "metadata": {
        "id": "DeMRISaDin6D"
      },
      "outputs": [],
      "source": [
        "dfs['AAPL.O'].head(7)"
      ]
    },
    {
      "cell_type": "markdown",
      "metadata": {
        "id": "1pR8dRGiin6E"
      },
      "source": [
        "### Implementing OLS Regression"
      ]
    },
    {
      "cell_type": "code",
      "execution_count": null,
      "metadata": {
        "id": "nDTvHiQKin6E"
      },
      "outputs": [],
      "source": [
        "regs = {}\n",
        "for sym in data.columns:\n",
        "    df = dfs[sym]  # getting data for the RIC\n",
        "    reg = np.linalg.lstsq(df[cols], df[sym], rcond=-1)[0]  # the OLS regression\n",
        "    regs[sym] = reg  # storing the results"
      ]
    },
    {
      "cell_type": "code",
      "execution_count": null,
      "metadata": {
        "id": "VNq-vNYbin6E"
      },
      "outputs": [],
      "source": [
        "np.set_printoptions(suppress=True)"
      ]
    },
    {
      "cell_type": "code",
      "execution_count": null,
      "metadata": {
        "id": "dggn9Mlsin6E"
      },
      "outputs": [],
      "source": [
        "for sym in data.columns:\n",
        "    print('{:10} | {}'.format(sym, regs[sym].round(4)))"
      ]
    },
    {
      "cell_type": "code",
      "execution_count": null,
      "metadata": {
        "scrolled": true,
        "id": "W6XcVO-7in6G"
      },
      "outputs": [],
      "source": [
        "rega = np.stack(tuple(regs.values()))  # combines the regression results"
      ]
    },
    {
      "cell_type": "code",
      "execution_count": null,
      "metadata": {
        "id": "l-AkKtBzin6G"
      },
      "outputs": [],
      "source": [
        "rega.mean(axis=0)  # mean values by column"
      ]
    },
    {
      "cell_type": "code",
      "execution_count": null,
      "metadata": {
        "id": "41GKcQxiin6G"
      },
      "outputs": [],
      "source": [
        "regd = pd.DataFrame(rega, columns=cols, index=data.columns)  # converting the results to DataFrame"
      ]
    },
    {
      "cell_type": "code",
      "execution_count": null,
      "metadata": {
        "id": "v7jYI1ynin6H"
      },
      "outputs": [],
      "source": [
        "regd"
      ]
    },
    {
      "cell_type": "code",
      "execution_count": null,
      "metadata": {
        "id": "LeSM6EXMin6H"
      },
      "outputs": [],
      "source": [
        "regd.iplot(kind='bar')"
      ]
    },
    {
      "cell_type": "code",
      "execution_count": null,
      "metadata": {
        "id": "wCdfRWFuin6I"
      },
      "outputs": [],
      "source": [
        "regd.mean().iplot(kind='bar')"
      ]
    },
    {
      "cell_type": "markdown",
      "metadata": {
        "id": "WdyLi5Dzin6I"
      },
      "source": [
        "## Another Approach"
      ]
    },
    {
      "cell_type": "code",
      "execution_count": null,
      "metadata": {
        "id": "GDW2KNVvin6I"
      },
      "outputs": [],
      "source": [
        "import statsmodels.api as sm"
      ]
    },
    {
      "cell_type": "code",
      "execution_count": null,
      "metadata": {
        "id": "Q31ULRaWin6J"
      },
      "outputs": [],
      "source": [
        "x_ = sm.add_constant(df[cols[:]], prepend=False)"
      ]
    },
    {
      "cell_type": "code",
      "execution_count": null,
      "metadata": {
        "id": "3FKun4z8in6J"
      },
      "outputs": [],
      "source": [
        "y = df[sym]"
      ]
    },
    {
      "cell_type": "code",
      "execution_count": null,
      "metadata": {
        "id": "Xoaqsxg_in6K"
      },
      "outputs": [],
      "source": [
        "mod = sm.OLS(y, x_)\n",
        "reg = mod.fit()"
      ]
    },
    {
      "cell_type": "code",
      "execution_count": null,
      "metadata": {
        "id": "DwCajKFcin6K"
      },
      "outputs": [],
      "source": [
        "reg.summary()"
      ]
    },
    {
      "cell_type": "markdown",
      "metadata": {
        "id": "vjBtHhW7in6K"
      },
      "source": [
        "## Cross Check"
      ]
    },
    {
      "cell_type": "code",
      "execution_count": null,
      "metadata": {
        "id": "PohMOqAMin6M"
      },
      "outputs": [],
      "source": [
        "sym = 'AAPL.O'"
      ]
    },
    {
      "cell_type": "code",
      "execution_count": null,
      "metadata": {
        "id": "MWjR9eAMin6M"
      },
      "outputs": [],
      "source": [
        "reg = regd.loc[sym].values"
      ]
    },
    {
      "cell_type": "code",
      "execution_count": null,
      "metadata": {
        "id": "6dW3f0Ntin6M"
      },
      "outputs": [],
      "source": [
        "y_ = np.dot(dfs[sym][cols], reg)  # predictions"
      ]
    },
    {
      "cell_type": "code",
      "execution_count": null,
      "metadata": {
        "id": "FSEBOezLin6O"
      },
      "outputs": [],
      "source": [
        "r = y_ - dfs[sym][sym]  # residuals"
      ]
    },
    {
      "cell_type": "markdown",
      "metadata": {
        "id": "MN7kU0ytin6O"
      },
      "source": [
        "Check for assumptions:\n",
        "* **linearity**: given\n",
        "* **independence**: <b style=\"color: red;\">not at all</b>\n",
        "* **zero mean**: somehow\n",
        "* **no correlation**: given\n",
        "* **homoscedasticity**: <b>given</b>\n",
        "* **no autocorrelation**: given\n",
        "* **stationarity**: <b style=\"color: red;\">not given</b>"
      ]
    },
    {
      "cell_type": "code",
      "execution_count": null,
      "metadata": {
        "id": "jf6YdN6tin6O"
      },
      "outputs": [],
      "source": [
        "dfs[sym][cols].corr()  # lags highly correlated"
      ]
    },
    {
      "cell_type": "code",
      "execution_count": null,
      "metadata": {
        "id": "2_dOnbTSin6P"
      },
      "outputs": [],
      "source": [
        "r.mean()"
      ]
    },
    {
      "cell_type": "code",
      "execution_count": null,
      "metadata": {
        "id": "Ra2x5Clfin6P"
      },
      "outputs": [],
      "source": [
        "np.corrcoef(r, dfs[sym]['lag_3'])"
      ]
    },
    {
      "cell_type": "code",
      "execution_count": null,
      "metadata": {
        "id": "Q3OAYdINin6P"
      },
      "outputs": [],
      "source": [
        "from scipy.stats import bartlett"
      ]
    },
    {
      "cell_type": "code",
      "execution_count": null,
      "metadata": {
        "id": "_zYgKQ32in6Q"
      },
      "outputs": [],
      "source": [
        "split = int(len(dfs) / 2)"
      ]
    },
    {
      "cell_type": "code",
      "execution_count": null,
      "metadata": {
        "id": "CVcr1yZZin6R"
      },
      "outputs": [],
      "source": [
        "bartlett(r[:split], r[split:])"
      ]
    },
    {
      "cell_type": "code",
      "execution_count": null,
      "metadata": {
        "id": "Esg5jepqin6R"
      },
      "outputs": [],
      "source": [
        "from statsmodels.graphics.tsaplots import plot_acf"
      ]
    },
    {
      "cell_type": "code",
      "execution_count": null,
      "metadata": {
        "id": "j_FxQqM9in6R"
      },
      "outputs": [],
      "source": [
        "fig, ax = plt.subplots(figsize=(10, 6))\n",
        "plot_acf(r, ax=ax);"
      ]
    },
    {
      "cell_type": "code",
      "execution_count": null,
      "metadata": {
        "id": "sNrrR-Hxin6R"
      },
      "outputs": [],
      "source": [
        "from statsmodels.tsa.stattools import adfuller"
      ]
    },
    {
      "cell_type": "code",
      "execution_count": null,
      "metadata": {
        "id": "Ib5JS1mCin6S"
      },
      "outputs": [],
      "source": [
        "# adfuller?"
      ]
    },
    {
      "cell_type": "code",
      "execution_count": null,
      "metadata": {
        "id": "UKLyVf07in6S"
      },
      "outputs": [],
      "source": [
        "adfuller(dfs[sym][sym])  # adf >> -2.567 --> not stationary"
      ]
    },
    {
      "cell_type": "markdown",
      "metadata": {
        "id": "6NUbZjRwin6S"
      },
      "source": [
        "<img src=\"http://hilpisch.com/tpq_logo.png\" alt=\"The Python Quants\" width=\"35%\" align=\"right\" border=\"0\"><br>\n",
        "\n",
        "<a href=\"http://tpq.io\" target=\"_blank\">http://tpq.io</a> | <a href=\"http://twitter.com/dyjh\" target=\"_blank\">@dyjh</a> | <a href=\"mailto:training@tpq.io\">training@tpq.io</a>"
      ]
    }
  ],
  "metadata": {
    "kernelspec": {
      "display_name": "Python 3 (ipykernel)",
      "language": "python",
      "name": "python3"
    },
    "language_info": {
      "codemirror_mode": {
        "name": "ipython",
        "version": 3
      },
      "file_extension": ".py",
      "mimetype": "text/x-python",
      "name": "python",
      "nbconvert_exporter": "python",
      "pygments_lexer": "ipython3",
      "version": "3.10.10"
    },
    "colab": {
      "provenance": []
    }
  },
  "nbformat": 4,
  "nbformat_minor": 0
}