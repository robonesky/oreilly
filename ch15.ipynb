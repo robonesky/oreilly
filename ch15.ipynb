{
 "cells": [
  {
   "cell_type": "code",
   "execution_count": 1,
   "metadata": {},
   "outputs": [],
   "source": [
    "import numpy as np\n",
    "\n",
    "# first, generate the time series\n",
    "\n",
    "def generate_time_series(batch_size, n_steps):\n",
    "    freq1, freq2, offsets1, offsets2 = np.random.rand(4, batch_size, 1)\n",
    "    time = np.linspace(0, 1, n_steps)\n",
    "    series = 0.5 * np.sin((time - offsets1) * (freq1 * 10 + 10)) # wave 1\n",
    "    series += 0.2 * np.sin((time - offsets2) * (freq2 * 20 + 20)) # wave 2\n",
    "    series += 0.1 * (np.random.rand(batch_size, n_steps) - 0.5) # noise\n",
    "    return series[..., np.newaxis].astype(np.float32)"
   ]
  },
  {
   "cell_type": "code",
   "execution_count": 2,
   "metadata": {},
   "outputs": [
    {
     "ename": "NameError",
     "evalue": "name 'X_valid' is not defined",
     "output_type": "error",
     "traceback": [
      "\u001b[1;31m---------------------------------------------------------------------------\u001b[0m",
      "\u001b[1;31mNameError\u001b[0m                                 Traceback (most recent call last)",
      "\u001b[1;32m~\\AppData\\Local\\Temp/ipykernel_16896/2000589741.py\u001b[0m in \u001b[0;36m<module>\u001b[1;34m\u001b[0m\n\u001b[0;32m     20\u001b[0m \u001b[1;32mfor\u001b[0m \u001b[0mcol\u001b[0m \u001b[1;32min\u001b[0m \u001b[0mrange\u001b[0m\u001b[1;33m(\u001b[0m\u001b[1;36m3\u001b[0m\u001b[1;33m)\u001b[0m\u001b[1;33m:\u001b[0m\u001b[1;33m\u001b[0m\u001b[1;33m\u001b[0m\u001b[0m\n\u001b[0;32m     21\u001b[0m     \u001b[0mplt\u001b[0m\u001b[1;33m.\u001b[0m\u001b[0msca\u001b[0m\u001b[1;33m(\u001b[0m\u001b[0maxes\u001b[0m\u001b[1;33m[\u001b[0m\u001b[0mcol\u001b[0m\u001b[1;33m]\u001b[0m\u001b[1;33m)\u001b[0m\u001b[1;33m\u001b[0m\u001b[1;33m\u001b[0m\u001b[0m\n\u001b[1;32m---> 22\u001b[1;33m     plot_series(X_valid[col, :, 0], y_valid[col, 0],\n\u001b[0m\u001b[0;32m     23\u001b[0m                 \u001b[0my_label\u001b[0m\u001b[1;33m=\u001b[0m\u001b[1;33m(\u001b[0m\u001b[1;34m\"$x(t)$\"\u001b[0m \u001b[1;32mif\u001b[0m \u001b[0mcol\u001b[0m\u001b[1;33m==\u001b[0m\u001b[1;36m0\u001b[0m \u001b[1;32melse\u001b[0m \u001b[1;32mNone\u001b[0m\u001b[1;33m)\u001b[0m\u001b[1;33m,\u001b[0m\u001b[1;33m\u001b[0m\u001b[1;33m\u001b[0m\u001b[0m\n\u001b[0;32m     24\u001b[0m                 legend=(col == 0))\n",
      "\u001b[1;31mNameError\u001b[0m: name 'X_valid' is not defined"
     ]
    },
    {
     "data": {
      "image/png": "[encoded data removed]",
      "text/plain": [
       "<Figure size 864x288 with 3 Axes>"
      ]
     },
     "metadata": {
      "needs_background": "light"
     },
     "output_type": "display_data"
    }
   ],
   "source": [
    "import matplotlib.pyplot as plt\n",
    "\n",
    "def plot_series(series, y=None, y_pred=None, x_label=\"$t$\", y_label=\"$x(t)$\", legend=True):\n",
    "    plt.plot(series, \".-\")\n",
    "    if y is not None:\n",
    "        plt.plot(n_steps, y, \"bo\", label=\"Target\")\n",
    "    if y_pred is not None:\n",
    "        plt.plot(n_steps, y_pred, \"rx\", markersize=10, label=\"Prediction\")\n",
    "    plt.grid(True)\n",
    "    if x_label:\n",
    "        plt.xlabel(x_label, fontsize=16)\n",
    "    if y_label:\n",
    "        plt.ylabel(y_label, fontsize=16, rotation=0)\n",
    "    plt.hlines(0, 0, 100, linewidth=1)\n",
    "    plt.axis([0, n_steps + 1, -1, 1])\n",
    "    if legend and (y or y_pred):\n",
    "        plt.legend(fontsize=14, loc=\"upper left\")\n",
    "\n",
    "fig, axes = plt.subplots(nrows=1, ncols=3, sharey=True, figsize=(12, 4))\n",
    "for col in range(3):\n",
    "    plt.sca(axes[col])\n",
    "    plot_series(X_valid[col, :, 0], y_valid[col, 0],\n",
    "                y_label=(\"$x(t)$\" if col==0 else None),\n",
    "                legend=(col == 0))\n",
    "plt.show()\n",
    "\n"
   ]
  },
  {
   "cell_type": "code",
   "execution_count": 3,
   "metadata": {},
   "outputs": [],
   "source": [
    "# now create training and validation set\n",
    "n_steps = 50\n",
    "series = generate_time_series(10000, n_steps+1)\n",
    "X_train, y_train = series[:7000, :n_steps], series[:7000, -1]\n",
    "X_valid, y_valid = series[7000:9000, :n_steps], series[7000:9000, -1]\n",
    "X_test, y_test = series[9000:, :n_steps], series[9000:, -1]"
   ]
  },
  {
   "cell_type": "code",
   "execution_count": 4,
   "metadata": {},
   "outputs": [
    {
     "data": {
      "text/plain": [
       "0.020879796"
      ]
     },
     "execution_count": 4,
     "metadata": {},
     "output_type": "execute_result"
    }
   ],
   "source": [
    "import tensorflow as tf\n",
    "from tensorflow import keras\n",
    "\n",
    "# get baseline metrics.  Here, just return the last value in each series, i.e. naive forecasting\n",
    "y_pred = X_valid[:, -1] # ie just show the last value\n",
    "np.mean(keras.losses.mean_squared_error(y_valid, y_pred))\n",
    "\n",
    "# MSE is c. 0.201"
   ]
  },
  {
   "cell_type": "code",
   "execution_count": 5,
   "metadata": {},
   "outputs": [
    {
     "name": "stdout",
     "output_type": "stream",
     "text": [
      "Epoch 1/20\n",
      "219/219 [==============================] - 0s 1ms/step - loss: 0.2154 - val_loss: 0.0615\n",
      "Epoch 2/20\n",
      "219/219 [==============================] - 0s 748us/step - loss: 0.0398 - val_loss: 0.0254\n",
      "Epoch 3/20\n",
      "219/219 [==============================] - 0s 754us/step - loss: 0.0191 - val_loss: 0.0144\n",
      "Epoch 4/20\n",
      "219/219 [==============================] - 0s 742us/step - loss: 0.0123 - val_loss: 0.0105\n",
      "Epoch 5/20\n",
      "219/219 [==============================] - 0s 728us/step - loss: 0.0097 - val_loss: 0.0088\n",
      "Epoch 6/20\n",
      "219/219 [==============================] - 0s 738us/step - loss: 0.0085 - val_loss: 0.0079\n",
      "Epoch 7/20\n",
      "219/219 [==============================] - 0s 729us/step - loss: 0.0078 - val_loss: 0.0073\n",
      "Epoch 8/20\n",
      "219/219 [==============================] - 0s 738us/step - loss: 0.0072 - val_loss: 0.0068\n",
      "Epoch 9/20\n",
      "219/219 [==============================] - 0s 762us/step - loss: 0.0068 - val_loss: 0.0064\n",
      "Epoch 10/20\n",
      "219/219 [==============================] - 0s 777us/step - loss: 0.0064 - val_loss: 0.0061\n",
      "Epoch 11/20\n",
      "219/219 [==============================] - 0s 765us/step - loss: 0.0061 - val_loss: 0.0057\n",
      "Epoch 12/20\n",
      "219/219 [==============================] - 0s 761us/step - loss: 0.0058 - val_loss: 0.0055\n",
      "Epoch 13/20\n",
      "219/219 [==============================] - 0s 763us/step - loss: 0.0055 - val_loss: 0.0052\n",
      "Epoch 14/20\n",
      "219/219 [==============================] - 0s 743us/step - loss: 0.0052 - val_loss: 0.0050\n",
      "Epoch 15/20\n",
      "219/219 [==============================] - 0s 721us/step - loss: 0.0050 - val_loss: 0.0048\n",
      "Epoch 16/20\n",
      "219/219 [==============================] - 0s 727us/step - loss: 0.0049 - val_loss: 0.0046\n",
      "Epoch 17/20\n",
      "219/219 [==============================] - 0s 724us/step - loss: 0.0047 - val_loss: 0.0044\n",
      "Epoch 18/20\n",
      "219/219 [==============================] - 0s 724us/step - loss: 0.0045 - val_loss: 0.0044\n",
      "Epoch 19/20\n",
      "219/219 [==============================] - 0s 753us/step - loss: 0.0044 - val_loss: 0.0042\n",
      "Epoch 20/20\n",
      "219/219 [==============================] - 0s 740us/step - loss: 0.0043 - val_loss: 0.0041\n",
      "63/63 [==============================] - 0s 551us/step - loss: 0.0041\n"
     ]
    },
    {
     "data": {
      "text/plain": [
       "0.0041397949680686"
      ]
     },
     "execution_count": 5,
     "metadata": {},
     "output_type": "execute_result"
    }
   ],
   "source": [
    "# could also do a simple fully connected network - aka linear regression\n",
    "model = keras.models.Sequential([\n",
    "    keras.layers.Flatten(input_shape = [50,1]),\n",
    "    keras.layers.Dense(1)\n",
    "])\n",
    "\n",
    "model.compile(loss=\"mse\", optimizer=\"adam\")\n",
    "history = model.fit(X_train, y_train, epochs=20,\n",
    "                    validation_data=(X_valid, y_valid))\n",
    "\n",
    "model.evaluate(X_valid, y_valid)\n",
    "\n",
    "# MSE approx 0.04 (see below) - this is the best so far"
   ]
  },
  {
   "cell_type": "code",
   "execution_count": 6,
   "metadata": {},
   "outputs": [],
   "source": [
    "# The actual RNN network:\n",
    "model = keras.models.Sequential([\n",
    "    keras.layers.SimpleRNN(1, input_shape = [None, 1])        \n",
    "])"
   ]
  },
  {
   "cell_type": "code",
   "execution_count": 7,
   "metadata": {},
   "outputs": [
    {
     "name": "stdout",
     "output_type": "stream",
     "text": [
      "Epoch 1/20\n",
      "219/219 [==============================] - 1s 4ms/step - loss: 0.1633 - val_loss: 0.1007\n",
      "Epoch 2/20\n",
      "219/219 [==============================] - 1s 3ms/step - loss: 0.0583 - val_loss: 0.0295\n",
      "Epoch 3/20\n",
      "219/219 [==============================] - 1s 3ms/step - loss: 0.0180 - val_loss: 0.0129\n",
      "Epoch 4/20\n",
      "219/219 [==============================] - 1s 3ms/step - loss: 0.0120 - val_loss: 0.0118\n",
      "Epoch 5/20\n",
      "219/219 [==============================] - 1s 4ms/step - loss: 0.0116 - val_loss: 0.0116\n",
      "Epoch 6/20\n",
      "219/219 [==============================] - 1s 4ms/step - loss: 0.0115 - val_loss: 0.0115\n",
      "Epoch 7/20\n",
      "219/219 [==============================] - 1s 4ms/step - loss: 0.0113 - val_loss: 0.0114\n",
      "Epoch 8/20\n",
      "219/219 [==============================] - 1s 5ms/step - loss: 0.0113 - val_loss: 0.0114\n",
      "Epoch 9/20\n",
      "219/219 [==============================] - 1s 5ms/step - loss: 0.0112 - val_loss: 0.0113\n",
      "Epoch 10/20\n",
      "219/219 [==============================] - 1s 4ms/step - loss: 0.0112 - val_loss: 0.0113\n",
      "Epoch 11/20\n",
      "219/219 [==============================] - 1s 4ms/step - loss: 0.0112 - val_loss: 0.0113\n",
      "Epoch 12/20\n",
      "219/219 [==============================] - 1s 4ms/step - loss: 0.0112 - val_loss: 0.0113\n",
      "Epoch 13/20\n",
      "219/219 [==============================] - 1s 4ms/step - loss: 0.0112 - val_loss: 0.0113\n",
      "Epoch 14/20\n",
      "219/219 [==============================] - 1s 4ms/step - loss: 0.0112 - val_loss: 0.0113\n",
      "Epoch 15/20\n",
      "219/219 [==============================] - 1s 5ms/step - loss: 0.0112 - val_loss: 0.0113\n",
      "Epoch 16/20\n",
      "219/219 [==============================] - 1s 5ms/step - loss: 0.0112 - val_loss: 0.0113\n",
      "Epoch 17/20\n",
      "219/219 [==============================] - 1s 5ms/step - loss: 0.0112 - val_loss: 0.0113\n",
      "Epoch 18/20\n",
      "219/219 [==============================] - 1s 5ms/step - loss: 0.0112 - val_loss: 0.0113\n",
      "Epoch 19/20\n",
      "219/219 [==============================] - 1s 5ms/step - loss: 0.0112 - val_loss: 0.0113\n",
      "Epoch 20/20\n",
      "219/219 [==============================] - 1s 5ms/step - loss: 0.0112 - val_loss: 0.0114\n"
     ]
    }
   ],
   "source": [
    "optimizer = keras.optimizers.Adam(learning_rate=0.005)\n",
    "model.compile(loss=\"mse\", optimizer=optimizer)\n",
    "history = model.fit(X_train, y_train, epochs=20, validation_data=(X_valid, y_valid))"
   ]
  },
  {
   "cell_type": "code",
   "execution_count": 8,
   "metadata": {},
   "outputs": [
    {
     "name": "stdout",
     "output_type": "stream",
     "text": [
      "63/63 [==============================] - 0s 1ms/step - loss: 0.0114\n"
     ]
    },
    {
     "data": {
      "text/plain": [
       "0.011361048556864262"
      ]
     },
     "execution_count": 8,
     "metadata": {},
     "output_type": "execute_result"
    }
   ],
   "source": [
    "model.evaluate(X_valid, y_valid)\n",
    "\n",
    "# MSE 0.11 - still not beating a simple linear model"
   ]
  },
  {
   "cell_type": "markdown",
   "metadata": {},
   "source": [
    "### Deep RNNs"
   ]
  },
  {
   "cell_type": "code",
   "execution_count": 9,
   "metadata": {},
   "outputs": [
    {
     "name": "stdout",
     "output_type": "stream",
     "text": [
      "Epoch 1/20\n",
      "219/219 [==============================] - 4s 13ms/step - loss: 0.0200 - val_loss: 0.0055\n",
      "Epoch 2/20\n",
      "219/219 [==============================] - 3s 14ms/step - loss: 0.0043 - val_loss: 0.0038\n",
      "Epoch 3/20\n",
      "219/219 [==============================] - 3s 15ms/step - loss: 0.0035 - val_loss: 0.0033\n",
      "Epoch 4/20\n",
      "219/219 [==============================] - 5s 21ms/step - loss: 0.0033 - val_loss: 0.0032\n",
      "Epoch 5/20\n",
      "219/219 [==============================] - 4s 17ms/step - loss: 0.0032 - val_loss: 0.0031\n",
      "Epoch 6/20\n",
      "219/219 [==============================] - 4s 16ms/step - loss: 0.0031 - val_loss: 0.0031\n",
      "Epoch 7/20\n",
      "219/219 [==============================] - 4s 18ms/step - loss: 0.0031 - val_loss: 0.0030\n",
      "Epoch 8/20\n",
      "219/219 [==============================] - 4s 17ms/step - loss: 0.0030 - val_loss: 0.0029\n",
      "Epoch 9/20\n",
      "219/219 [==============================] - 3s 16ms/step - loss: 0.0030 - val_loss: 0.0029\n",
      "Epoch 10/20\n",
      "219/219 [==============================] - 3s 16ms/step - loss: 0.0030 - val_loss: 0.0029\n",
      "Epoch 11/20\n",
      "219/219 [==============================] - 3s 16ms/step - loss: 0.0029 - val_loss: 0.0028\n",
      "Epoch 12/20\n",
      "219/219 [==============================] - 3s 16ms/step - loss: 0.0029 - val_loss: 0.0027\n",
      "Epoch 13/20\n",
      "219/219 [==============================] - 4s 17ms/step - loss: 0.0029 - val_loss: 0.0032\n",
      "Epoch 14/20\n",
      "219/219 [==============================] - 4s 16ms/step - loss: 0.0029 - val_loss: 0.0029\n",
      "Epoch 15/20\n",
      "219/219 [==============================] - 3s 16ms/step - loss: 0.0029 - val_loss: 0.0028\n",
      "Epoch 16/20\n",
      "219/219 [==============================] - 4s 16ms/step - loss: 0.0027 - val_loss: 0.0027\n",
      "Epoch 17/20\n",
      "219/219 [==============================] - 3s 16ms/step - loss: 0.0027 - val_loss: 0.0026\n",
      "Epoch 18/20\n",
      "219/219 [==============================] - 3s 16ms/step - loss: 0.0026 - val_loss: 0.0027\n",
      "Epoch 19/20\n",
      "219/219 [==============================] - 4s 16ms/step - loss: 0.0026 - val_loss: 0.0027\n",
      "Epoch 20/20\n",
      "219/219 [==============================] - 3s 16ms/step - loss: 0.0026 - val_loss: 0.0024\n"
     ]
    }
   ],
   "source": [
    "model = keras.models.Sequential([\n",
    "    keras.layers.SimpleRNN(20, return_sequences=True, input_shape=[None, 1]),\n",
    "    keras.layers.SimpleRNN(20, return_sequences=True),\n",
    "    keras.layers.SimpleRNN(1)\n",
    "])\n",
    "\n",
    "model.compile(loss=\"mse\", optimizer=\"adam\")\n",
    "history = model.fit(X_train, y_train, epochs=20,\n",
    "                    validation_data=(X_valid, y_valid))"
   ]
  },
  {
   "cell_type": "code",
   "execution_count": 10,
   "metadata": {},
   "outputs": [
    {
     "name": "stdout",
     "output_type": "stream",
     "text": [
      "63/63 [==============================] - 0s 3ms/step - loss: 0.0024\n"
     ]
    },
    {
     "data": {
      "text/plain": [
       "0.0023643733002245426"
      ]
     },
     "execution_count": 10,
     "metadata": {},
     "output_type": "execute_result"
    }
   ],
   "source": [
    "model.evaluate(X_valid, y_valid)\n",
    "\n",
    "# finally we beat the linear model"
   ]
  },
  {
   "cell_type": "markdown",
   "metadata": {},
   "source": [
    "### Forecasting several steps ahead"
   ]
  },
  {
   "cell_type": "code",
   "execution_count": 13,
   "metadata": {},
   "outputs": [
    {
     "name": "stdout",
     "output_type": "stream",
     "text": [
      "1/1 [==============================] - 0s 179ms/step\n",
      "1/1 [==============================] - 0s 21ms/step\n",
      "1/1 [==============================] - 0s 16ms/step\n",
      "1/1 [==============================] - 0s 17ms/step\n",
      "1/1 [==============================] - 0s 16ms/step\n",
      "1/1 [==============================] - 0s 17ms/step\n",
      "1/1 [==============================] - 0s 15ms/step\n",
      "1/1 [==============================] - 0s 15ms/step\n",
      "1/1 [==============================] - 0s 15ms/step\n",
      "1/1 [==============================] - 0s 17ms/step\n"
     ]
    }
   ],
   "source": [
    "np.random.seed(43) # not 42, as it would give the first series in the train set\n",
    "\n",
    "series = generate_time_series(1, n_steps + 10)\n",
    "X_new, Y_new = series[:, :n_steps], series[:, n_steps:]\n",
    "X = X_new\n",
    "for step_ahead in range(10):\n",
    "    y_pred_one = model.predict(X[:, step_ahead:])[:, np.newaxis, :]\n",
    "    X = np.concatenate([X, y_pred_one], axis=1)\n",
    "\n",
    "Y_pred = X[:, n_steps:]"
   ]
  },
  {
   "cell_type": "code",
   "execution_count": 14,
   "metadata": {},
   "outputs": [
    {
     "data": {
      "image/png": "[encoded data removed]",
      "text/plain": [
       "<Figure size 432x288 with 1 Axes>"
      ]
     },
     "metadata": {
      "needs_background": "light"
     },
     "output_type": "display_data"
    }
   ],
   "source": [
    "def plot_multiple_forecasts(X, Y, Y_pred):\n",
    "    n_steps = X.shape[1]\n",
    "    ahead = Y.shape[1]\n",
    "    plot_series(X[0, :, 0])\n",
    "    plt.plot(np.arange(n_steps, n_steps + ahead), Y[0, :, 0], \"bo-\", label=\"Actual\")\n",
    "    plt.plot(np.arange(n_steps, n_steps + ahead), Y_pred[0, :, 0], \"rx-\", label=\"Forecast\", markersize=10)\n",
    "    plt.axis([0, n_steps + ahead, -1, 1])\n",
    "    plt.legend(fontsize=14)\n",
    "\n",
    "plot_multiple_forecasts(X_new, Y_new, Y_pred)\n",
    "plt.show()"
   ]
  },
  {
   "cell_type": "code",
   "execution_count": 15,
   "metadata": {},
   "outputs": [],
   "source": [
    "\n",
    "\n",
    "np.random.seed(42)\n",
    "\n",
    "n_steps = 50\n",
    "series = generate_time_series(10000, n_steps + 10)\n",
    "X_train, Y_train = series[:7000, :n_steps], series[:7000, -10:, 0]\n",
    "X_valid, Y_valid = series[7000:9000, :n_steps], series[7000:9000, -10:, 0]\n",
    "X_test, Y_test = series[9000:, :n_steps], series[9000:, -10:, 0]\n",
    "\n"
   ]
  },
  {
   "cell_type": "code",
   "execution_count": 16,
   "metadata": {},
   "outputs": [
    {
     "name": "stdout",
     "output_type": "stream",
     "text": [
      "63/63 [==============================] - 0s 3ms/step\n",
      "63/63 [==============================] - 0s 3ms/step\n",
      "63/63 [==============================] - 0s 3ms/step\n",
      "63/63 [==============================] - 0s 3ms/step\n",
      "63/63 [==============================] - 0s 3ms/step\n",
      "63/63 [==============================] - 0s 3ms/step\n",
      "63/63 [==============================] - 0s 3ms/step\n",
      "63/63 [==============================] - 0s 3ms/step\n",
      "63/63 [==============================] - 0s 4ms/step\n",
      "63/63 [==============================] - 0s 4ms/step\n"
     ]
    }
   ],
   "source": [
    "\n",
    "X = X_valid\n",
    "for step_ahead in range(10):\n",
    "    y_pred_one = model.predict(X)[:, np.newaxis, :]\n",
    "    X = np.concatenate([X, y_pred_one], axis=1)\n",
    "\n",
    "Y_pred = X[:, n_steps:, 0]"
   ]
  },
  {
   "cell_type": "code",
   "execution_count": 17,
   "metadata": {},
   "outputs": [
    {
     "data": {
      "text/plain": [
       "0.020955143"
      ]
     },
     "execution_count": 17,
     "metadata": {},
     "output_type": "execute_result"
    }
   ],
   "source": [
    "np.mean(keras.metrics.mean_squared_error(Y_valid, Y_pred))"
   ]
  },
  {
   "cell_type": "code",
   "execution_count": 19,
   "metadata": {},
   "outputs": [],
   "source": [
    "# predicting the next 10 values at once:\n",
    "\n",
    "\n",
    "np.random.seed(42)\n",
    "\n",
    "n_steps = 50\n",
    "series = generate_time_series(10000, n_steps + 10)\n",
    "X_train = series[:7000, :n_steps]\n",
    "X_valid = series[7000:9000, :n_steps]\n",
    "X_test = series[9000:, :n_steps]\n",
    "Y = np.empty((10000, n_steps, 10))\n",
    "for step_ahead in range(1, 10 + 1):\n",
    "    Y[..., step_ahead - 1] = series[..., step_ahead:step_ahead + n_steps, 0]\n",
    "Y_train = Y[:7000]\n",
    "Y_valid = Y[7000:9000]\n",
    "Y_test = Y[9000:]\n"
   ]
  },
  {
   "cell_type": "code",
   "execution_count": 20,
   "metadata": {},
   "outputs": [
    {
     "name": "stdout",
     "output_type": "stream",
     "text": [
      "Epoch 1/20\n",
      "219/219 [==============================] - 3s 9ms/step - loss: 0.0516 - last_time_step_mse: 0.0414 - val_loss: 0.0432 - val_last_time_step_mse: 0.0323\n",
      "Epoch 2/20\n",
      "219/219 [==============================] - 4s 16ms/step - loss: 0.0379 - last_time_step_mse: 0.0259 - val_loss: 0.0348 - val_last_time_step_mse: 0.0217\n",
      "Epoch 3/20\n",
      "219/219 [==============================] - 4s 16ms/step - loss: 0.0313 - last_time_step_mse: 0.0190 - val_loss: 0.0300 - val_last_time_step_mse: 0.0176\n",
      "Epoch 4/20\n",
      "219/219 [==============================] - 3s 15ms/step - loss: 0.0282 - last_time_step_mse: 0.0156 - val_loss: 0.0250 - val_last_time_step_mse: 0.0121\n",
      "Epoch 5/20\n",
      "219/219 [==============================] - 3s 16ms/step - loss: 0.0251 - last_time_step_mse: 0.0125 - val_loss: 0.0234 - val_last_time_step_mse: 0.0115\n",
      "Epoch 6/20\n",
      "219/219 [==============================] - 3s 16ms/step - loss: 0.0246 - last_time_step_mse: 0.0125 - val_loss: 0.0260 - val_last_time_step_mse: 0.0159\n",
      "Epoch 7/20\n",
      "219/219 [==============================] - 3s 15ms/step - loss: 0.0232 - last_time_step_mse: 0.0109 - val_loss: 0.0208 - val_last_time_step_mse: 0.0086\n",
      "Epoch 8/20\n",
      "219/219 [==============================] - 3s 15ms/step - loss: 0.0222 - last_time_step_mse: 0.0099 - val_loss: 0.0229 - val_last_time_step_mse: 0.0118\n",
      "Epoch 9/20\n",
      "219/219 [==============================] - 3s 15ms/step - loss: 0.0216 - last_time_step_mse: 0.0094 - val_loss: 0.0205 - val_last_time_step_mse: 0.0081\n",
      "Epoch 10/20\n",
      "219/219 [==============================] - 3s 15ms/step - loss: 0.0211 - last_time_step_mse: 0.0090 - val_loss: 0.0204 - val_last_time_step_mse: 0.0084\n",
      "Epoch 11/20\n",
      "219/219 [==============================] - 3s 15ms/step - loss: 0.0202 - last_time_step_mse: 0.0083 - val_loss: 0.0197 - val_last_time_step_mse: 0.0076\n",
      "Epoch 12/20\n",
      "219/219 [==============================] - 3s 15ms/step - loss: 0.0203 - last_time_step_mse: 0.0084 - val_loss: 0.0201 - val_last_time_step_mse: 0.0081\n",
      "Epoch 13/20\n",
      "219/219 [==============================] - 3s 15ms/step - loss: 0.0198 - last_time_step_mse: 0.0080 - val_loss: 0.0191 - val_last_time_step_mse: 0.0078\n",
      "Epoch 14/20\n",
      "219/219 [==============================] - 3s 15ms/step - loss: 0.0192 - last_time_step_mse: 0.0076 - val_loss: 0.0190 - val_last_time_step_mse: 0.0080\n",
      "Epoch 15/20\n",
      "219/219 [==============================] - 3s 15ms/step - loss: 0.0197 - last_time_step_mse: 0.0081 - val_loss: 0.0189 - val_last_time_step_mse: 0.0083\n",
      "Epoch 16/20\n",
      "219/219 [==============================] - 3s 15ms/step - loss: 0.0194 - last_time_step_mse: 0.0079 - val_loss: 0.0183 - val_last_time_step_mse: 0.0076\n",
      "Epoch 17/20\n",
      "219/219 [==============================] - 3s 15ms/step - loss: 0.0189 - last_time_step_mse: 0.0073 - val_loss: 0.0179 - val_last_time_step_mse: 0.0067\n",
      "Epoch 18/20\n",
      "219/219 [==============================] - 3s 15ms/step - loss: 0.0189 - last_time_step_mse: 0.0075 - val_loss: 0.0185 - val_last_time_step_mse: 0.0075\n",
      "Epoch 19/20\n",
      "219/219 [==============================] - 3s 15ms/step - loss: 0.0185 - last_time_step_mse: 0.0072 - val_loss: 0.0184 - val_last_time_step_mse: 0.0067\n",
      "Epoch 20/20\n",
      "219/219 [==============================] - 3s 15ms/step - loss: 0.0189 - last_time_step_mse: 0.0078 - val_loss: 0.0202 - val_last_time_step_mse: 0.0101\n"
     ]
    }
   ],
   "source": [
    "np.random.seed(42)\n",
    "tf.random.set_seed(42)\n",
    "\n",
    "model = keras.models.Sequential([\n",
    "    keras.layers.SimpleRNN(20, return_sequences=True, input_shape=[None, 1]),\n",
    "    keras.layers.SimpleRNN(20, return_sequences=True),\n",
    "    keras.layers.TimeDistributed(keras.layers.Dense(10))\n",
    "])\n",
    "\n",
    "def last_time_step_mse(Y_true, Y_pred):\n",
    "    return keras.metrics.mean_squared_error(Y_true[:, -1], Y_pred[:, -1])\n",
    "\n",
    "model.compile(loss=\"mse\", optimizer=keras.optimizers.Adam(learning_rate=0.01), metrics=[last_time_step_mse])\n",
    "history = model.fit(X_train, Y_train, epochs=20,\n",
    "                    validation_data=(X_valid, Y_valid))"
   ]
  },
  {
   "cell_type": "code",
   "execution_count": null,
   "metadata": {},
   "outputs": [],
   "source": []
  }
 ],
 "metadata": {
  "kernelspec": {
   "display_name": "Python 3.9.6 ('pythonlab')",
   "language": "python",
   "name": "python3"
  },
  "language_info": {
   "codemirror_mode": {
    "name": "ipython",
    "version": 3
   },
   "file_extension": ".py",
   "mimetype": "text/x-python",
   "name": "python",
   "nbconvert_exporter": "python",
   "pygments_lexer": "ipython3",
   "version": "3.9.6"
  },
  "orig_nbformat": 4,
  "vscode": {
   "interpreter": {
    "hash": "7557ff2d21bdd58082867ceef09ab7d61dd675a2269c94d3e145551ce39c5434"
   }
  }
 },
 "nbformat": 4,
 "nbformat_minor": 2
}
