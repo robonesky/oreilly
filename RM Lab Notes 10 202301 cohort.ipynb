{
  "nbformat": 4,
  "nbformat_minor": 0,
  "metadata": {
    "colab": {
      "provenance": [],
      "authorship_tag": "ABX9TyMHEFEmcrnnze5SyHITkcm5",
      "include_colab_link": true
    },
    "kernelspec": {
      "name": "python3",
      "display_name": "Python 3"
    },
    "language_info": {
      "name": "python"
    }
  },
  "cells": [
    {
      "cell_type": "markdown",
      "metadata": {
        "id": "view-in-github",
        "colab_type": "text"
      },
      "source": [
        "<a href=\"https://colab.research.google.com/github/robonesky/oreilly/blob/main/RM%20Lab%20Notes%2010%20202301%20cohort.ipynb\" target=\"_parent\"><img src=\"https://colab.research.google.com/assets/colab-badge.svg\" alt=\"Open In Colab\"/></a>"
      ]
    },
    {
      "cell_type": "code",
      "source": [
        "import pandas as pd\n",
        "import numpy as np\n",
        "import matplotlib.pyplot as plt\n",
        "from sklearn.preprocessing import MinMaxScaler\n",
        "\n",
        "from sklearn.pipeline import Pipeline\n",
        "from sklearn.model_selection import train_test_split, GridSearchCV, TimeSeriesSplit, cross_val_score\n",
        "\n",
        "from sklearn.neighbors import KNeighborsClassifier\n",
        "from sklearn.metrics import precision_recall_curve, roc_curve# , ROCCurveDisplay #, ConfusionMatrixDisplay\n",
        "from sklearn.metrics import accuracy_score, f1_score, recall_score, precision_score, roc_auc_score, auc\n",
        "from sklearn.metrics import classification_report, confusion_matrix\n",
        "\n",
        "import warnings\n",
        "warnings.filterwarnings ('ignore')"
      ],
      "metadata": {
        "id": "TPy4x5zffleY"
      },
      "execution_count": 3,
      "outputs": []
    },
    {
      "cell_type": "code",
      "source": [
        "df = pd.read_csv('./spy.csv', index_col=0, parse_dates=True)\n",
        "\n",
        "df.head()"
      ],
      "metadata": {
        "id": "fs3rOgqUhLUd",
        "outputId": "4aa2a3f4-9e31-4947-ed7b-2250ac96756a",
        "colab": {
          "base_uri": "https://localhost:8080/",
          "height": 238
        }
      },
      "execution_count": 4,
      "outputs": [
        {
          "output_type": "execute_result",
          "data": {
            "text/plain": [
              "                 Open       High        Low      Close  Adj Close   Volume\n",
              "Date                                                                      \n",
              "1996-05-08  63.671875  64.781250  63.078125  64.781250  41.272911  1694700\n",
              "1996-05-09  64.562500  65.062500  64.500000  64.734375  41.243053   593400\n",
              "1996-05-10  65.375000  65.593750  65.062500  65.375000  41.651173   925100\n",
              "1996-05-13  65.531250  66.640625  65.468750  66.359375  42.278339   867500\n",
              "1996-05-14  66.625000  66.937500  66.562500  66.765625  42.537167   632300"
            ],
            "text/html": [
              "\n",
              "  <div id=\"df-aa5b9be3-1efb-4e53-a607-fda909220eb0\">\n",
              "    <div class=\"colab-df-container\">\n",
              "      <div>\n",
              "<style scoped>\n",
              "    .dataframe tbody tr th:only-of-type {\n",
              "        vertical-align: middle;\n",
              "    }\n",
              "\n",
              "    .dataframe tbody tr th {\n",
              "        vertical-align: top;\n",
              "    }\n",
              "\n",
              "    .dataframe thead th {\n",
              "        text-align: right;\n",
              "    }\n",
              "</style>\n",
              "<table border=\"1\" class=\"dataframe\">\n",
              "  <thead>\n",
              "    <tr style=\"text-align: right;\">\n",
              "      <th></th>\n",
              "      <th>Open</th>\n",
              "      <th>High</th>\n",
              "      <th>Low</th>\n",
              "      <th>Close</th>\n",
              "      <th>Adj Close</th>\n",
              "      <th>Volume</th>\n",
              "    </tr>\n",
              "    <tr>\n",
              "      <th>Date</th>\n",
              "      <th></th>\n",
              "      <th></th>\n",
              "      <th></th>\n",
              "      <th></th>\n",
              "      <th></th>\n",
              "      <th></th>\n",
              "    </tr>\n",
              "  </thead>\n",
              "  <tbody>\n",
              "    <tr>\n",
              "      <th>1996-05-08</th>\n",
              "      <td>63.671875</td>\n",
              "      <td>64.781250</td>\n",
              "      <td>63.078125</td>\n",
              "      <td>64.781250</td>\n",
              "      <td>41.272911</td>\n",
              "      <td>1694700</td>\n",
              "    </tr>\n",
              "    <tr>\n",
              "      <th>1996-05-09</th>\n",
              "      <td>64.562500</td>\n",
              "      <td>65.062500</td>\n",
              "      <td>64.500000</td>\n",
              "      <td>64.734375</td>\n",
              "      <td>41.243053</td>\n",
              "      <td>593400</td>\n",
              "    </tr>\n",
              "    <tr>\n",
              "      <th>1996-05-10</th>\n",
              "      <td>65.375000</td>\n",
              "      <td>65.593750</td>\n",
              "      <td>65.062500</td>\n",
              "      <td>65.375000</td>\n",
              "      <td>41.651173</td>\n",
              "      <td>925100</td>\n",
              "    </tr>\n",
              "    <tr>\n",
              "      <th>1996-05-13</th>\n",
              "      <td>65.531250</td>\n",
              "      <td>66.640625</td>\n",
              "      <td>65.468750</td>\n",
              "      <td>66.359375</td>\n",
              "      <td>42.278339</td>\n",
              "      <td>867500</td>\n",
              "    </tr>\n",
              "    <tr>\n",
              "      <th>1996-05-14</th>\n",
              "      <td>66.625000</td>\n",
              "      <td>66.937500</td>\n",
              "      <td>66.562500</td>\n",
              "      <td>66.765625</td>\n",
              "      <td>42.537167</td>\n",
              "      <td>632300</td>\n",
              "    </tr>\n",
              "  </tbody>\n",
              "</table>\n",
              "</div>\n",
              "      <button class=\"colab-df-convert\" onclick=\"convertToInteractive('df-aa5b9be3-1efb-4e53-a607-fda909220eb0')\"\n",
              "              title=\"Convert this dataframe to an interactive table.\"\n",
              "              style=\"display:none;\">\n",
              "        \n",
              "  <svg xmlns=\"http://www.w3.org/2000/svg\" height=\"24px\"viewBox=\"0 0 24 24\"\n",
              "       width=\"24px\">\n",
              "    <path d=\"M0 0h24v24H0V0z\" fill=\"none\"/>\n",
              "    <path d=\"M18.56 5.44l.94 2.06.94-2.06 2.06-.94-2.06-.94-.94-2.06-.94 2.06-2.06.94zm-11 1L8.5 8.5l.94-2.06 2.06-.94-2.06-.94L8.5 2.5l-.94 2.06-2.06.94zm10 10l.94 2.06.94-2.06 2.06-.94-2.06-.94-.94-2.06-.94 2.06-2.06.94z\"/><path d=\"M17.41 7.96l-1.37-1.37c-.4-.4-.92-.59-1.43-.59-.52 0-1.04.2-1.43.59L10.3 9.45l-7.72 7.72c-.78.78-.78 2.05 0 2.83L4 21.41c.39.39.9.59 1.41.59.51 0 1.02-.2 1.41-.59l7.78-7.78 2.81-2.81c.8-.78.8-2.07 0-2.86zM5.41 20L4 18.59l7.72-7.72 1.47 1.35L5.41 20z\"/>\n",
              "  </svg>\n",
              "      </button>\n",
              "      \n",
              "  <style>\n",
              "    .colab-df-container {\n",
              "      display:flex;\n",
              "      flex-wrap:wrap;\n",
              "      gap: 12px;\n",
              "    }\n",
              "\n",
              "    .colab-df-convert {\n",
              "      background-color: #E8F0FE;\n",
              "      border: none;\n",
              "      border-radius: 50%;\n",
              "      cursor: pointer;\n",
              "      display: none;\n",
              "      fill: #1967D2;\n",
              "      height: 32px;\n",
              "      padding: 0 0 0 0;\n",
              "      width: 32px;\n",
              "    }\n",
              "\n",
              "    .colab-df-convert:hover {\n",
              "      background-color: #E2EBFA;\n",
              "      box-shadow: 0px 1px 2px rgba(60, 64, 67, 0.3), 0px 1px 3px 1px rgba(60, 64, 67, 0.15);\n",
              "      fill: #174EA6;\n",
              "    }\n",
              "\n",
              "    [theme=dark] .colab-df-convert {\n",
              "      background-color: #3B4455;\n",
              "      fill: #D2E3FC;\n",
              "    }\n",
              "\n",
              "    [theme=dark] .colab-df-convert:hover {\n",
              "      background-color: #434B5C;\n",
              "      box-shadow: 0px 1px 3px 1px rgba(0, 0, 0, 0.15);\n",
              "      filter: drop-shadow(0px 1px 2px rgba(0, 0, 0, 0.3));\n",
              "      fill: #FFFFFF;\n",
              "    }\n",
              "  </style>\n",
              "\n",
              "      <script>\n",
              "        const buttonEl =\n",
              "          document.querySelector('#df-aa5b9be3-1efb-4e53-a607-fda909220eb0 button.colab-df-convert');\n",
              "        buttonEl.style.display =\n",
              "          google.colab.kernel.accessAllowed ? 'block' : 'none';\n",
              "\n",
              "        async function convertToInteractive(key) {\n",
              "          const element = document.querySelector('#df-aa5b9be3-1efb-4e53-a607-fda909220eb0');\n",
              "          const dataTable =\n",
              "            await google.colab.kernel.invokeFunction('convertToInteractive',\n",
              "                                                     [key], {});\n",
              "          if (!dataTable) return;\n",
              "\n",
              "          const docLinkHtml = 'Like what you see? Visit the ' +\n",
              "            '<a target=\"_blank\" href=https://colab.research.google.com/notebooks/data_table.ipynb>data table notebook</a>'\n",
              "            + ' to learn more about interactive tables.';\n",
              "          element.innerHTML = '';\n",
              "          dataTable['output_type'] = 'display_data';\n",
              "          await google.colab.output.renderOutput(dataTable, element);\n",
              "          const docLink = document.createElement('div');\n",
              "          docLink.innerHTML = docLinkHtml;\n",
              "          element.appendChild(docLink);\n",
              "        }\n",
              "      </script>\n",
              "    </div>\n",
              "  </div>\n",
              "  "
            ]
          },
          "metadata": {},
          "execution_count": 4
        }
      ]
    },
    {
      "cell_type": "code",
      "source": [
        "df.describe()"
      ],
      "metadata": {
        "id": "mpHweUq4hx-7",
        "colab": {
          "base_uri": "https://localhost:8080/",
          "height": 300
        },
        "outputId": "0a511050-5e53-4437-db47-f5eff22d8e10"
      },
      "execution_count": 5,
      "outputs": [
        {
          "output_type": "execute_result",
          "data": {
            "text/plain": [
              "              Open         High          Low        Close    Adj Close  \\\n",
              "count  6293.000000  6293.000000  6293.000000  6293.000000  6293.000000   \n",
              "mean    159.373806   160.332798   158.308242   159.373042   133.292492   \n",
              "std      71.731954    71.996933    71.438268    71.748354    79.402662   \n",
              "min      61.937500    63.187500    60.375000    62.656250    40.130543   \n",
              "25%     112.019997   112.599998   111.156250   111.889999    80.180862   \n",
              "50%     133.125000   133.875000   132.156250   133.156250    98.580070   \n",
              "75%     200.020004   201.000000   198.740005   200.020004   177.175781   \n",
              "max     420.320007   422.820007   419.160004   422.119995   422.119995   \n",
              "\n",
              "             Volume  \n",
              "count  6.293000e+03  \n",
              "mean   9.558396e+07  \n",
              "std    9.699401e+07  \n",
              "min    2.016000e+05  \n",
              "25%    2.772080e+07  \n",
              "50%    6.903300e+07  \n",
              "75%    1.323469e+08  \n",
              "max    8.710263e+08  "
            ],
            "text/html": [
              "\n",
              "  <div id=\"df-d477dedd-9397-48f5-991a-2cf38d761088\">\n",
              "    <div class=\"colab-df-container\">\n",
              "      <div>\n",
              "<style scoped>\n",
              "    .dataframe tbody tr th:only-of-type {\n",
              "        vertical-align: middle;\n",
              "    }\n",
              "\n",
              "    .dataframe tbody tr th {\n",
              "        vertical-align: top;\n",
              "    }\n",
              "\n",
              "    .dataframe thead th {\n",
              "        text-align: right;\n",
              "    }\n",
              "</style>\n",
              "<table border=\"1\" class=\"dataframe\">\n",
              "  <thead>\n",
              "    <tr style=\"text-align: right;\">\n",
              "      <th></th>\n",
              "      <th>Open</th>\n",
              "      <th>High</th>\n",
              "      <th>Low</th>\n",
              "      <th>Close</th>\n",
              "      <th>Adj Close</th>\n",
              "      <th>Volume</th>\n",
              "    </tr>\n",
              "  </thead>\n",
              "  <tbody>\n",
              "    <tr>\n",
              "      <th>count</th>\n",
              "      <td>6293.000000</td>\n",
              "      <td>6293.000000</td>\n",
              "      <td>6293.000000</td>\n",
              "      <td>6293.000000</td>\n",
              "      <td>6293.000000</td>\n",
              "      <td>6.293000e+03</td>\n",
              "    </tr>\n",
              "    <tr>\n",
              "      <th>mean</th>\n",
              "      <td>159.373806</td>\n",
              "      <td>160.332798</td>\n",
              "      <td>158.308242</td>\n",
              "      <td>159.373042</td>\n",
              "      <td>133.292492</td>\n",
              "      <td>9.558396e+07</td>\n",
              "    </tr>\n",
              "    <tr>\n",
              "      <th>std</th>\n",
              "      <td>71.731954</td>\n",
              "      <td>71.996933</td>\n",
              "      <td>71.438268</td>\n",
              "      <td>71.748354</td>\n",
              "      <td>79.402662</td>\n",
              "      <td>9.699401e+07</td>\n",
              "    </tr>\n",
              "    <tr>\n",
              "      <th>min</th>\n",
              "      <td>61.937500</td>\n",
              "      <td>63.187500</td>\n",
              "      <td>60.375000</td>\n",
              "      <td>62.656250</td>\n",
              "      <td>40.130543</td>\n",
              "      <td>2.016000e+05</td>\n",
              "    </tr>\n",
              "    <tr>\n",
              "      <th>25%</th>\n",
              "      <td>112.019997</td>\n",
              "      <td>112.599998</td>\n",
              "      <td>111.156250</td>\n",
              "      <td>111.889999</td>\n",
              "      <td>80.180862</td>\n",
              "      <td>2.772080e+07</td>\n",
              "    </tr>\n",
              "    <tr>\n",
              "      <th>50%</th>\n",
              "      <td>133.125000</td>\n",
              "      <td>133.875000</td>\n",
              "      <td>132.156250</td>\n",
              "      <td>133.156250</td>\n",
              "      <td>98.580070</td>\n",
              "      <td>6.903300e+07</td>\n",
              "    </tr>\n",
              "    <tr>\n",
              "      <th>75%</th>\n",
              "      <td>200.020004</td>\n",
              "      <td>201.000000</td>\n",
              "      <td>198.740005</td>\n",
              "      <td>200.020004</td>\n",
              "      <td>177.175781</td>\n",
              "      <td>1.323469e+08</td>\n",
              "    </tr>\n",
              "    <tr>\n",
              "      <th>max</th>\n",
              "      <td>420.320007</td>\n",
              "      <td>422.820007</td>\n",
              "      <td>419.160004</td>\n",
              "      <td>422.119995</td>\n",
              "      <td>422.119995</td>\n",
              "      <td>8.710263e+08</td>\n",
              "    </tr>\n",
              "  </tbody>\n",
              "</table>\n",
              "</div>\n",
              "      <button class=\"colab-df-convert\" onclick=\"convertToInteractive('df-d477dedd-9397-48f5-991a-2cf38d761088')\"\n",
              "              title=\"Convert this dataframe to an interactive table.\"\n",
              "              style=\"display:none;\">\n",
              "        \n",
              "  <svg xmlns=\"http://www.w3.org/2000/svg\" height=\"24px\"viewBox=\"0 0 24 24\"\n",
              "       width=\"24px\">\n",
              "    <path d=\"M0 0h24v24H0V0z\" fill=\"none\"/>\n",
              "    <path d=\"M18.56 5.44l.94 2.06.94-2.06 2.06-.94-2.06-.94-.94-2.06-.94 2.06-2.06.94zm-11 1L8.5 8.5l.94-2.06 2.06-.94-2.06-.94L8.5 2.5l-.94 2.06-2.06.94zm10 10l.94 2.06.94-2.06 2.06-.94-2.06-.94-.94-2.06-.94 2.06-2.06.94z\"/><path d=\"M17.41 7.96l-1.37-1.37c-.4-.4-.92-.59-1.43-.59-.52 0-1.04.2-1.43.59L10.3 9.45l-7.72 7.72c-.78.78-.78 2.05 0 2.83L4 21.41c.39.39.9.59 1.41.59.51 0 1.02-.2 1.41-.59l7.78-7.78 2.81-2.81c.8-.78.8-2.07 0-2.86zM5.41 20L4 18.59l7.72-7.72 1.47 1.35L5.41 20z\"/>\n",
              "  </svg>\n",
              "      </button>\n",
              "      \n",
              "  <style>\n",
              "    .colab-df-container {\n",
              "      display:flex;\n",
              "      flex-wrap:wrap;\n",
              "      gap: 12px;\n",
              "    }\n",
              "\n",
              "    .colab-df-convert {\n",
              "      background-color: #E8F0FE;\n",
              "      border: none;\n",
              "      border-radius: 50%;\n",
              "      cursor: pointer;\n",
              "      display: none;\n",
              "      fill: #1967D2;\n",
              "      height: 32px;\n",
              "      padding: 0 0 0 0;\n",
              "      width: 32px;\n",
              "    }\n",
              "\n",
              "    .colab-df-convert:hover {\n",
              "      background-color: #E2EBFA;\n",
              "      box-shadow: 0px 1px 2px rgba(60, 64, 67, 0.3), 0px 1px 3px 1px rgba(60, 64, 67, 0.15);\n",
              "      fill: #174EA6;\n",
              "    }\n",
              "\n",
              "    [theme=dark] .colab-df-convert {\n",
              "      background-color: #3B4455;\n",
              "      fill: #D2E3FC;\n",
              "    }\n",
              "\n",
              "    [theme=dark] .colab-df-convert:hover {\n",
              "      background-color: #434B5C;\n",
              "      box-shadow: 0px 1px 3px 1px rgba(0, 0, 0, 0.15);\n",
              "      filter: drop-shadow(0px 1px 2px rgba(0, 0, 0, 0.3));\n",
              "      fill: #FFFFFF;\n",
              "    }\n",
              "  </style>\n",
              "\n",
              "      <script>\n",
              "        const buttonEl =\n",
              "          document.querySelector('#df-d477dedd-9397-48f5-991a-2cf38d761088 button.colab-df-convert');\n",
              "        buttonEl.style.display =\n",
              "          google.colab.kernel.accessAllowed ? 'block' : 'none';\n",
              "\n",
              "        async function convertToInteractive(key) {\n",
              "          const element = document.querySelector('#df-d477dedd-9397-48f5-991a-2cf38d761088');\n",
              "          const dataTable =\n",
              "            await google.colab.kernel.invokeFunction('convertToInteractive',\n",
              "                                                     [key], {});\n",
              "          if (!dataTable) return;\n",
              "\n",
              "          const docLinkHtml = 'Like what you see? Visit the ' +\n",
              "            '<a target=\"_blank\" href=https://colab.research.google.com/notebooks/data_table.ipynb>data table notebook</a>'\n",
              "            + ' to learn more about interactive tables.';\n",
              "          element.innerHTML = '';\n",
              "          dataTable['output_type'] = 'display_data';\n",
              "          await google.colab.output.renderOutput(dataTable, element);\n",
              "          const docLink = document.createElement('div');\n",
              "          docLink.innerHTML = docLinkHtml;\n",
              "          element.appendChild(docLink);\n",
              "        }\n",
              "      </script>\n",
              "    </div>\n",
              "  </div>\n",
              "  "
            ]
          },
          "metadata": {},
          "execution_count": 5
        }
      ]
    },
    {
      "cell_type": "code",
      "source": [
        "df.isnull().sum()"
      ],
      "metadata": {
        "colab": {
          "base_uri": "https://localhost:8080/"
        },
        "id": "QLQ30CZL_KQX",
        "outputId": "3a47b118-65a2-4942-c62d-ad9e81658b4c"
      },
      "execution_count": 6,
      "outputs": [
        {
          "output_type": "execute_result",
          "data": {
            "text/plain": [
              "Open         0\n",
              "High         0\n",
              "Low          0\n",
              "Close        0\n",
              "Adj Close    0\n",
              "Volume       0\n",
              "dtype: int64"
            ]
          },
          "metadata": {},
          "execution_count": 6
        }
      ]
    },
    {
      "cell_type": "code",
      "source": [
        "df['O-C'] = df['Open'] - df['Close']\n",
        "df['H-L'] = df['High'] - df['Low']\n",
        "\n",
        "# This returns an ndarray\n",
        "X = df[\n",
        "    ['O-C', 'H-L']\n",
        "].values"
      ],
      "metadata": {
        "id": "STXRnDl5_QLE"
      },
      "execution_count": 8,
      "outputs": []
    },
    {
      "cell_type": "code",
      "source": [
        "y = np.where(\n",
        "    # where T+1 > 0.995* T, populate an 'up', else a 'close'\n",
        "    df['Adj Close'].shift(-1) > 0.995*df['Adj Close'],\n",
        "    1,\n",
        "    -1)\n",
        "\n",
        "y"
      ],
      "metadata": {
        "colab": {
          "base_uri": "https://localhost:8080/"
        },
        "id": "wCt407rC_gm1",
        "outputId": "49254b4e-115b-46d2-a4aa-233a46814bcd"
      },
      "execution_count": 9,
      "outputs": [
        {
          "output_type": "execute_result",
          "data": {
            "text/plain": [
              "array([ 1,  1,  1, ...,  1,  1, -1])"
            ]
          },
          "metadata": {},
          "execution_count": 9
        }
      ]
    },
    {
      "cell_type": "code",
      "source": [
        "pd.Series(y).value_counts()"
      ],
      "metadata": {
        "colab": {
          "base_uri": "https://localhost:8080/"
        },
        "id": "JLBGgdKn_9dc",
        "outputId": "cb4bee43-f9a3-4642-af14-92ee0687b42f"
      },
      "execution_count": 10,
      "outputs": [
        {
          "output_type": "execute_result",
          "data": {
            "text/plain": [
              " 1    4755\n",
              "-1    1538\n",
              "dtype: int64"
            ]
          },
          "metadata": {},
          "execution_count": 10
        }
      ]
    },
    {
      "cell_type": "code",
      "source": [
        "X_train, X_test, y_train, y_test = train_test_split(X, y, test_size = 0.2, shuffle=False)\n",
        "\n",
        "print(f'\\nX_train is {X_train}, \\nX_test is {X_test}, \\ny_train is {y_train}, \\ny_test is {y_test}')"
      ],
      "metadata": {
        "colab": {
          "base_uri": "https://localhost:8080/"
        },
        "id": "Kpt09bIqAUTU",
        "outputId": "f2f7d513-ec8f-45d9-9b1e-b458c35ee00d"
      },
      "execution_count": 12,
      "outputs": [
        {
          "output_type": "stream",
          "name": "stdout",
          "text": [
            "\n",
            "X_train is [[-1.109375    1.703125  ]\n",
            " [-0.171875    0.5625    ]\n",
            " [ 0.          0.53125   ]\n",
            " ...\n",
            " [-0.01998901  1.43000793]\n",
            " [ 0.58999634  1.50999451]\n",
            " [-1.66000366  1.88999939]], \n",
            "X_test is [[-0.31999207  1.03999329]\n",
            " [-1.72999573  1.83000183]\n",
            " [ 1.41000366  2.03999329]\n",
            " ...\n",
            " [ 1.63000488  2.48001099]\n",
            " [-3.24002075  5.52999878]\n",
            " [-2.22998047  3.66000366]], \n",
            "y_train is [1 1 1 ... 1 1 1], \n",
            "y_test is [ 1 -1  1 ...  1  1 -1]\n"
          ]
        }
      ]
    },
    {
      "cell_type": "code",
      "source": [
        "model = Pipeline([\n",
        "    ('scaler', MinMaxScaler()),\n",
        "    ('classifier', KNeighborsClassifier())\n",
        "])\n",
        "\n",
        "model.fit(X_train, y_train)"
      ],
      "metadata": {
        "colab": {
          "base_uri": "https://localhost:8080/",
          "height": 126
        },
        "id": "_ddug7NRAooE",
        "outputId": "78704b24-6144-410b-f3b2-a445e216c2ad"
      },
      "execution_count": 13,
      "outputs": [
        {
          "output_type": "execute_result",
          "data": {
            "text/plain": [
              "Pipeline(steps=[('scaler', MinMaxScaler()),\n",
              "                ('classifier', KNeighborsClassifier())])"
            ],
            "text/html": [
              "<style>#sk-container-id-1 {color: black;background-color: white;}#sk-container-id-1 pre{padding: 0;}#sk-container-id-1 div.sk-toggleable {background-color: white;}#sk-container-id-1 label.sk-toggleable__label {cursor: pointer;display: block;width: 100%;margin-bottom: 0;padding: 0.3em;box-sizing: border-box;text-align: center;}#sk-container-id-1 label.sk-toggleable__label-arrow:before {content: \"▸\";float: left;margin-right: 0.25em;color: #696969;}#sk-container-id-1 label.sk-toggleable__label-arrow:hover:before {color: black;}#sk-container-id-1 div.sk-estimator:hover label.sk-toggleable__label-arrow:before {color: black;}#sk-container-id-1 div.sk-toggleable__content {max-height: 0;max-width: 0;overflow: hidden;text-align: left;background-color: #f0f8ff;}#sk-container-id-1 div.sk-toggleable__content pre {margin: 0.2em;color: black;border-radius: 0.25em;background-color: #f0f8ff;}#sk-container-id-1 input.sk-toggleable__control:checked~div.sk-toggleable__content {max-height: 200px;max-width: 100%;overflow: auto;}#sk-container-id-1 input.sk-toggleable__control:checked~label.sk-toggleable__label-arrow:before {content: \"▾\";}#sk-container-id-1 div.sk-estimator input.sk-toggleable__control:checked~label.sk-toggleable__label {background-color: #d4ebff;}#sk-container-id-1 div.sk-label input.sk-toggleable__control:checked~label.sk-toggleable__label {background-color: #d4ebff;}#sk-container-id-1 input.sk-hidden--visually {border: 0;clip: rect(1px 1px 1px 1px);clip: rect(1px, 1px, 1px, 1px);height: 1px;margin: -1px;overflow: hidden;padding: 0;position: absolute;width: 1px;}#sk-container-id-1 div.sk-estimator {font-family: monospace;background-color: #f0f8ff;border: 1px dotted black;border-radius: 0.25em;box-sizing: border-box;margin-bottom: 0.5em;}#sk-container-id-1 div.sk-estimator:hover {background-color: #d4ebff;}#sk-container-id-1 div.sk-parallel-item::after {content: \"\";width: 100%;border-bottom: 1px solid gray;flex-grow: 1;}#sk-container-id-1 div.sk-label:hover label.sk-toggleable__label {background-color: #d4ebff;}#sk-container-id-1 div.sk-serial::before {content: \"\";position: absolute;border-left: 1px solid gray;box-sizing: border-box;top: 0;bottom: 0;left: 50%;z-index: 0;}#sk-container-id-1 div.sk-serial {display: flex;flex-direction: column;align-items: center;background-color: white;padding-right: 0.2em;padding-left: 0.2em;position: relative;}#sk-container-id-1 div.sk-item {position: relative;z-index: 1;}#sk-container-id-1 div.sk-parallel {display: flex;align-items: stretch;justify-content: center;background-color: white;position: relative;}#sk-container-id-1 div.sk-item::before, #sk-container-id-1 div.sk-parallel-item::before {content: \"\";position: absolute;border-left: 1px solid gray;box-sizing: border-box;top: 0;bottom: 0;left: 50%;z-index: -1;}#sk-container-id-1 div.sk-parallel-item {display: flex;flex-direction: column;z-index: 1;position: relative;background-color: white;}#sk-container-id-1 div.sk-parallel-item:first-child::after {align-self: flex-end;width: 50%;}#sk-container-id-1 div.sk-parallel-item:last-child::after {align-self: flex-start;width: 50%;}#sk-container-id-1 div.sk-parallel-item:only-child::after {width: 0;}#sk-container-id-1 div.sk-dashed-wrapped {border: 1px dashed gray;margin: 0 0.4em 0.5em 0.4em;box-sizing: border-box;padding-bottom: 0.4em;background-color: white;}#sk-container-id-1 div.sk-label label {font-family: monospace;font-weight: bold;display: inline-block;line-height: 1.2em;}#sk-container-id-1 div.sk-label-container {text-align: center;}#sk-container-id-1 div.sk-container {/* jupyter's `normalize.less` sets `[hidden] { display: none; }` but bootstrap.min.css set `[hidden] { display: none !important; }` so we also need the `!important` here to be able to override the default hidden behavior on the sphinx rendered scikit-learn.org. See: https://github.com/scikit-learn/scikit-learn/issues/21755 */display: inline-block !important;position: relative;}#sk-container-id-1 div.sk-text-repr-fallback {display: none;}</style><div id=\"sk-container-id-1\" class=\"sk-top-container\"><div class=\"sk-text-repr-fallback\"><pre>Pipeline(steps=[(&#x27;scaler&#x27;, MinMaxScaler()),\n",
              "                (&#x27;classifier&#x27;, KNeighborsClassifier())])</pre><b>In a Jupyter environment, please rerun this cell to show the HTML representation or trust the notebook. <br />On GitHub, the HTML representation is unable to render, please try loading this page with nbviewer.org.</b></div><div class=\"sk-container\" hidden><div class=\"sk-item sk-dashed-wrapped\"><div class=\"sk-label-container\"><div class=\"sk-label sk-toggleable\"><input class=\"sk-toggleable__control sk-hidden--visually\" id=\"sk-estimator-id-1\" type=\"checkbox\" ><label for=\"sk-estimator-id-1\" class=\"sk-toggleable__label sk-toggleable__label-arrow\">Pipeline</label><div class=\"sk-toggleable__content\"><pre>Pipeline(steps=[(&#x27;scaler&#x27;, MinMaxScaler()),\n",
              "                (&#x27;classifier&#x27;, KNeighborsClassifier())])</pre></div></div></div><div class=\"sk-serial\"><div class=\"sk-item\"><div class=\"sk-estimator sk-toggleable\"><input class=\"sk-toggleable__control sk-hidden--visually\" id=\"sk-estimator-id-2\" type=\"checkbox\" ><label for=\"sk-estimator-id-2\" class=\"sk-toggleable__label sk-toggleable__label-arrow\">MinMaxScaler</label><div class=\"sk-toggleable__content\"><pre>MinMaxScaler()</pre></div></div></div><div class=\"sk-item\"><div class=\"sk-estimator sk-toggleable\"><input class=\"sk-toggleable__control sk-hidden--visually\" id=\"sk-estimator-id-3\" type=\"checkbox\" ><label for=\"sk-estimator-id-3\" class=\"sk-toggleable__label sk-toggleable__label-arrow\">KNeighborsClassifier</label><div class=\"sk-toggleable__content\"><pre>KNeighborsClassifier()</pre></div></div></div></div></div></div></div>"
            ]
          },
          "metadata": {},
          "execution_count": 13
        }
      ]
    },
    {
      "cell_type": "code",
      "source": [
        "y_pred = model.predict(X_test)\n",
        "\n",
        "y_proba = model.predict_proba(X_test)\n",
        "\n",
        "acc_train = accuracy_score(y_train, model.predict(X_train))\n",
        "acc_test = accuracy_score(y_test, y_pred)\n",
        "\n",
        "print(f'Train Accuracy: {acc_train:0.4}, Test Accuracy: {acc_test:0.4}')"
      ],
      "metadata": {
        "colab": {
          "base_uri": "https://localhost:8080/"
        },
        "id": "dsrmEAYjBcFT",
        "outputId": "1f323f3b-c080-495e-bb44-c0e52974f5f5"
      },
      "execution_count": 14,
      "outputs": [
        {
          "output_type": "stream",
          "name": "stdout",
          "text": [
            "Train Accuracy: 0.7757, Test Accuracy: 0.7284\n"
          ]
        }
      ]
    },
    {
      "cell_type": "code",
      "source": [
        "from sklearn.metrics import ConfusionMatrixDisplay\n",
        "disp = ConfusionMatrixDisplay.from_estimator(\n",
        "    model,\n",
        "    X_test,\n",
        "    y_test,\n",
        "    display_labels = model.classes_,\n",
        "    cmap = plt.cm.Blues\n",
        ")\n",
        "disp.ax_.set_title('Confusion Matrix')\n",
        "plt.show()"
      ],
      "metadata": {
        "colab": {
          "base_uri": "https://localhost:8080/",
          "height": 472
        },
        "id": "b5IsiNfPCE2y",
        "outputId": "c8b9240f-3dfa-4c43-8104-985f844b0441"
      },
      "execution_count": 16,
      "outputs": [
        {
          "output_type": "display_data",
          "data": {
            "text/plain": [
              "<Figure size 640x480 with 2 Axes>"
            ],
            "image/png": "[encoded data removed]"
          },
          "metadata": {}
        }
      ]
    },
    {
      "cell_type": "code",
      "source": [
        "print(f'Classification report is as below \\n: {classification_report(y_test, y_pred)}')"
      ],
      "metadata": {
        "colab": {
          "base_uri": "https://localhost:8080/"
        },
        "id": "FJ0YpVeHCZ5v",
        "outputId": "0b5c89bb-2504-4d5c-fc8a-cfc0bb990e4a"
      },
      "execution_count": 17,
      "outputs": [
        {
          "output_type": "stream",
          "name": "stdout",
          "text": [
            "Classification report is as below \n",
            ":               precision    recall  f1-score   support\n",
            "\n",
            "          -1       0.22      0.20      0.21       225\n",
            "           1       0.83      0.84      0.84      1034\n",
            "\n",
            "    accuracy                           0.73      1259\n",
            "   macro avg       0.52      0.52      0.52      1259\n",
            "weighted avg       0.72      0.73      0.72      1259\n",
            "\n"
          ]
        }
      ]
    },
    {
      "cell_type": "code",
      "source": [
        "from sklearn.metrics import RocCurveDisplay\n",
        "\n",
        "disp_roc = RocCurveDisplay.from_estimator(\n",
        "    model,\n",
        "    X_test,\n",
        "    y_test,\n",
        "    name = 'KNN'\n",
        ")\n",
        "disp_roc.ax_.set_title('ROC Curve')\n",
        "plt.show()"
      ],
      "metadata": {
        "id": "Frri8lvJCx1L",
        "outputId": "c1758edf-6530-416b-d6f4-7622de14082e",
        "colab": {
          "base_uri": "https://localhost:8080/",
          "height": 472
        }
      },
      "execution_count": 18,
      "outputs": [
        {
          "output_type": "display_data",
          "data": {
            "text/plain": [
              "<Figure size 640x480 with 1 Axes>"
            ],
            "image/png": "[encoded data removed]"
          },
          "metadata": {}
        }
      ]
    },
    {
      "cell_type": "code",
      "source": [
        "tscv = TimeSeriesSplit(n_splits = 2, gap = 1)\n",
        "for train, test in tscv.split(X):\n",
        "  print (f'Size of train set is {train.shape}, size of test set is {test.shape}\\n')"
      ],
      "metadata": {
        "id": "a2rBgkagDIZT",
        "outputId": "0b532c54-02f1-4ea8-9e9f-582e85f61c2f",
        "colab": {
          "base_uri": "https://localhost:8080/"
        }
      },
      "execution_count": 19,
      "outputs": [
        {
          "output_type": "stream",
          "name": "stdout",
          "text": [
            "Size of train set is (2098,), size of test set is (2097,)\n",
            "\n",
            "Size of train set is (4195,), size of test set is (2097,)\n",
            "\n"
          ]
        }
      ]
    },
    {
      "cell_type": "code",
      "source": [
        "model.get_params()"
      ],
      "metadata": {
        "id": "5oeN8X5JDaBL",
        "outputId": "d5fc96bb-26f3-4294-d166-4e3fa04ca606",
        "colab": {
          "base_uri": "https://localhost:8080/"
        }
      },
      "execution_count": 20,
      "outputs": [
        {
          "output_type": "execute_result",
          "data": {
            "text/plain": [
              "{'memory': None,\n",
              " 'steps': [('scaler', MinMaxScaler()), ('classifier', KNeighborsClassifier())],\n",
              " 'verbose': False,\n",
              " 'scaler': MinMaxScaler(),\n",
              " 'classifier': KNeighborsClassifier(),\n",
              " 'scaler__clip': False,\n",
              " 'scaler__copy': True,\n",
              " 'scaler__feature_range': (0, 1),\n",
              " 'classifier__algorithm': 'auto',\n",
              " 'classifier__leaf_size': 30,\n",
              " 'classifier__metric': 'minkowski',\n",
              " 'classifier__metric_params': None,\n",
              " 'classifier__n_jobs': None,\n",
              " 'classifier__n_neighbors': 5,\n",
              " 'classifier__p': 2,\n",
              " 'classifier__weights': 'uniform'}"
            ]
          },
          "metadata": {},
          "execution_count": 20
        }
      ]
    },
    {
      "cell_type": "code",
      "source": [
        "\n",
        "\n",
        "# Perform Gridsearch and fit\n",
        "param_grid = {\"classifier__n_neighbors\": np.arange(1,51,1)}\n",
        "\n",
        "grid_search = GridSearchCV(model, param_grid, scoring='roc_auc', n_jobs=-1, cv=tscv, verbose=1)\n",
        "grid_search.fit(X_train, y_train)\n",
        "\n",
        "# Optimal params & scores:\n",
        "print(f\"Optimal Neighbours: {grid_search.best_params_['classifier__n_neighbors']}, Best Scors: {round(grid_search.best_score_,4)}\")"
      ],
      "metadata": {
        "id": "mdemTlRgDfXT",
        "outputId": "3af917fe-1941-49fc-9f91-8e5c8dbe211c",
        "colab": {
          "base_uri": "https://localhost:8080/"
        }
      },
      "execution_count": 22,
      "outputs": [
        {
          "output_type": "stream",
          "name": "stdout",
          "text": [
            "Fitting 2 folds for each of 50 candidates, totalling 100 fits\n",
            "Optimal Neighbours: 36, Best Scors: 0.5473\n"
          ]
        }
      ]
    },
    {
      "cell_type": "code",
      "source": [],
      "metadata": {
        "id": "zg2Ktw_lEN6E"
      },
      "execution_count": null,
      "outputs": []
    }
  ]
}